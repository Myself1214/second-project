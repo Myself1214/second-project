{
    "metadata": {
        "kernelspec": {
            "name": "python3",
            "display_name": "Python 3",
            "language": "python"
        },
        "language_info": {
            "name": "python",
            "version": "3.7.4",
            "mimetype": "text/x-python",
            "codemirror_mode": {
                "name": "ipython",
                "version": 3
            },
            "pygments_lexer": "ipython3",
            "nbconvert_exporter": "python",
            "file_extension": ".py"
        }
    },
    "nbformat_minor": 2,
    "nbformat": 4,
    "cells": [
        {
            "cell_type": "markdown",
            "source": [
                "# Python Basics - String Manipulation - Exercise\n",
                "\n",
                "In the String Manipulation lesson, we worked with strings in Python. In this exercise, we want to see your understanding of string manipulation. We have provided some questions and guidance. Enter the code in the code cell below the question.\n",
                "\n",
                "## Upon Completion\n",
                "\n",
                "Save your work. If you have questions, reach out to your instructor.\n",
                "\n",
                "## Exercise"
            ],
            "metadata": {
                "azdata_cell_guid": "894c32a1-1222-45fa-92c3-ac15753238ec"
            }
        },
        {
            "cell_type": "markdown",
            "source": [
                "1. Given a string, split the values into individual values."
            ],
            "metadata": {
                "azdata_cell_guid": "67c3693b-d3ce-423a-b463-ec23f3675d45"
            }
        },
        {
            "cell_type": "code",
            "source": [
                "to_be_changed=\"John Glenn|Neil Armstrong|Sally Ride|Douglas Wheelock|Mae Jemison\"\r\n",
                "changed_values = to_be_changed\r\n",
                "print(changed_values)"
            ],
            "metadata": {
                "azdata_cell_guid": "d175491a-eb0c-473a-8b90-1edeef1b4c24",
                "tags": []
            },
            "outputs": [],
            "execution_count": null
        },
        {
            "cell_type": "markdown",
            "source": [
                "2. We were given these lyrics to split for a karaoke machine.  Split the lyrics by line using `split()`.\n",
                "\n",
                "Source: [https://en.wikipedia.org/wiki/Take\\_Me\\_Out\\_to\\_the\\_Ball\\_Game](https://en.wikipedia.org/wiki/Take_Me_Out_to_the_Ball_Game) - lyrics originally from 1908 Tin Pan Alley"
            ],
            "metadata": {
                "azdata_cell_guid": "141170c0-959b-42ae-88c8-8b36baf83213"
            }
        },
        {
            "cell_type": "code",
            "source": [
                "lyrics = \"\"\"\r\n",
                "Katie Casey was baseball mad,\r\n",
                "Had the fever and had it bad.\r\n",
                "Just to root for the home town crew,\r\n",
                "Ev'ry sou\r\n",
                "Katie blew.\r\n",
                "On a Saturday her young beau\r\n",
                "Called to see if she'd like to go\r\n",
                "To see a show, but Miss Kate said \"No,\r\n",
                "I'll tell you what you can do:\"\r\n",
                "\"\"\"\r\n",
                "lyrics_split = lyrics\r\n",
                "print(lyrics_split)"
            ],
            "metadata": {
                "azdata_cell_guid": "cecc752f-a069-4c8b-9edc-83086ef5aa62"
            },
            "outputs": [],
            "execution_count": null
        },
        {
            "cell_type": "markdown",
            "source": [
                "3. We were given these lyrics to split for a karaoke machine.  Split the lyrics by line using something other than `split()`.\r\n",
                "\r\n",
                "Source: [https://en.wikipedia.org/wiki/Take\\_Me\\_Out\\_to\\_the\\_Ball\\_Game](https://en.wikipedia.org/wiki/Take_Me_Out_to_the_Ball_Game) - lyrics originally from 1908 Tin Pan Alley"
            ],
            "metadata": {
                "azdata_cell_guid": "b7c165fd-911d-4f52-b191-3fab1c69280e"
            }
        },
        {
            "cell_type": "code",
            "source": [
                "lyrics = \"\"\"\r\n",
                "Katie Casey was baseball mad,\r\n",
                "Had the fever and had it bad.\r\n",
                "Just to root for the home town crew,\r\n",
                "Ev'ry sou\r\n",
                "Katie blew.\r\n",
                "On a Saturday her young beau\r\n",
                "Called to see if she'd like to go\r\n",
                "To see a show, but Miss Kate said \"No,\r\n",
                "I'll tell you what you can do:\"\r\n",
                "\"\"\"\r\n",
                "changed_values = lyrics\r\n",
                "print(changed_values)"
            ],
            "metadata": {
                "azdata_cell_guid": "1b37d7d3-7762-4445-b949-47d77e9181dd"
            },
            "outputs": [],
            "execution_count": null
        },
        {
            "cell_type": "markdown",
            "source": [
                "4. How long is the long village name string?"
            ],
            "metadata": {
                "azdata_cell_guid": "5f14d81a-a7b1-4d6d-be5b-a812df9e94aa"
            }
        },
        {
            "cell_type": "code",
            "source": [
                "long_village_name = \"Llanfair­pwllgwyngyll­gogery­chwyrn­drobwll­llan­tysilio­gogo­goch\"\r\n",
                "string_length = long_village_name\r\n",
                "print(string_length)"
            ],
            "metadata": {
                "azdata_cell_guid": "53338238-c18a-4094-a858-9196259892c1"
            },
            "outputs": [],
            "execution_count": null
        },
        {
            "cell_type": "markdown",
            "source": [
                "4. We want all folders in this path without additional spaces.  How would you get that?"
            ],
            "metadata": {
                "azdata_cell_guid": "c13249c9-25ca-402a-b363-1131ea968537"
            }
        },
        {
            "cell_type": "code",
            "source": [
                "my_path = '   /c/Users/instructor/Downloads/Submit Relating the Nonrelational Assessment Download May 10, 2021 917 AM          '\r\n",
                "my_folders = my_path\r\n",
                "print(my_folders)"
            ],
            "metadata": {
                "azdata_cell_guid": "9fdcebab-e125-4e3a-b54c-ced36e8e71ee"
            },
            "outputs": [],
            "execution_count": null
        },
        {
            "cell_type": "markdown",
            "source": [
                "5. Given this list of names, change the third name in the list to be \"Wolfgang Mozart\"."
            ],
            "metadata": {
                "azdata_cell_guid": "7628a504-eac5-4533-a9d1-f1f4be7afe1d"
            }
        },
        {
            "cell_type": "code",
            "source": [
                "composers=\"Beethoven,Ludwig von;Liszt,Franz;Mozart,Wolfgang;Copland,Aaron\"\r\n",
                "# Separate the composers\r\n",
                "composers_split = composers\r\n",
                "# Get the third composer\r\n",
                "third_composer = composers_split[2]\r\n",
                "# Find the comma in the name\r\n",
                "comma_position = third_composer\r\n",
                "# Use the slicing notation to get the last name\r\n",
                "last_name = third_composer[]\r\n",
                "# Use the slicing notation to get the first name\r\n",
                "first_name = third_composer[]\r\n",
                "# Join the names to get the 3rd composer's name in \"first last\" format\r\n",
                "third_composer_name\r\n",
                "# Print the composer's name\r\n",
                "print(third_composer_name)"
            ],
            "metadata": {
                "azdata_cell_guid": "7a8f97b9-cd9c-4d03-bbc5-42590af4d0af"
            },
            "outputs": [],
            "execution_count": null
        },
        {
            "cell_type": "markdown",
            "source": [
                "6. Given a right padded string and a left padded string, clean the strings to get the output of \"Call now! Operators are standing by\"\n",
                "\n",
                "Hint: You will need to include the `!` when putting the strings together."
            ],
            "metadata": {
                "azdata_cell_guid": "96699102-fb13-4653-b5ab-ab4426724369"
            }
        },
        {
            "cell_type": "code",
            "source": [
                "left_padded = '                 Operators are standing by'\r\n",
                "right_padded = 'Call now                   '\r\n",
                "print()"
            ],
            "metadata": {
                "azdata_cell_guid": "0565147e-81de-4067-8084-156955d6df74"
            },
            "outputs": [],
            "execution_count": null
        },
        {
            "cell_type": "markdown",
            "source": [
                "7. Given the student name, grade, and assignment ID, using old style formating, print out the following:\r\n",
                "\r\n",
                "```\r\n",
                "'Student name: Owen, Assignment ID: 0012, Grade: 94.75%'\r\n",
                "```\r\n",
                "\r\n",
                "Hint: to get the % to appear in the output, you will need to use `%%` to represent the percentage sign in an old style substitution string."
            ],
            "metadata": {
                "azdata_cell_guid": "4c646223-07f3-48af-8c85-4127a71b23c0"
            }
        },
        {
            "cell_type": "code",
            "source": [
                "student_name = \"Owen\"\r\n",
                "grade = 94.75\r\n",
                "assignment_number = 12\r\n",
                "print()"
            ],
            "metadata": {
                "azdata_cell_guid": "146c3f8a-3359-4ef8-b67a-0ff8a5ace492"
            },
            "outputs": [],
            "execution_count": null
        },
        {
            "cell_type": "markdown",
            "source": [
                "8. Given the employee ID of \"30\", pad the string with zeroes on the left to have the employee ID appear as 6-digits \"000030\"."
            ],
            "metadata": {
                "azdata_cell_guid": "8b7d8660-4901-4d47-a2ac-6cf7f2855a68"
            }
        },
        {
            "cell_type": "code",
            "source": [
                "employee_id = \"30\"\r\n",
                "employee_id_padded = employee_id\r\n",
                "print(employee_id_padded)"
            ],
            "metadata": {
                "azdata_cell_guid": "1263620c-0c9c-4b0c-9f80-076e082854dd",
                "tags": []
            },
            "outputs": [],
            "execution_count": null
        },
        {
            "cell_type": "markdown",
            "source": [
                "9. Print the following statement using raw strings:\r\n",
                "\r\n",
                "```\r\n",
                "\\n represents a new line.\r\n",
                "```"
            ],
            "metadata": {
                "azdata_cell_guid": "066cc84e-8d01-4578-9ab5-e3e040a34c7b"
            }
        },
        {
            "cell_type": "code",
            "source": [
                "print()"
            ],
            "metadata": {
                "azdata_cell_guid": "cc07e37c-992d-4a96-b9e3-5af7ff7e0be3"
            },
            "outputs": [],
            "execution_count": null
        },
        {
            "cell_type": "markdown",
            "source": [
                "10. Convert the following strings based on their variable names."
            ],
            "metadata": {
                "azdata_cell_guid": "33e2c725-f0e8-4a34-89be-f013bcf9b984"
            }
        },
        {
            "cell_type": "code",
            "source": [
                "i_want_to_yell = 'yeah'\r\n",
                "I_NEED_TO_BE_QUIET = 'SHHHHH'\r\n",
                "this_is_a_title = 'this is a title'\r\n",
                "sWAPcASE = 'sWAPcASE'\r\n",
                "capitalize_this = 'capitalize this'\r\n",
                "\r\n",
                "# Use print and a function to achieve what the variable names suggest"
            ],
            "metadata": {
                "azdata_cell_guid": "be28d9b0-e158-4565-85f9-4693ca98d08b"
            },
            "outputs": [],
            "execution_count": null
        }
    ]
}